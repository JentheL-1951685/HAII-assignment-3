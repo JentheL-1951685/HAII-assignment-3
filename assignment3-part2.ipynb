{
 "cells": [
  {
   "cell_type": "code",
   "execution_count": 8,
   "metadata": {},
   "outputs": [],
   "source": [
    "import pandas as pd\n",
    "import numpy as np\n",
    "import ipywidgets as widgets\n",
    "from IPython.display import display, clear_output\n",
    "import matplotlib.pyplot as plt"
   ]
  },
  {
   "cell_type": "code",
   "execution_count": 9,
   "metadata": {},
   "outputs": [],
   "source": [
    "df_2015 = pd.read_csv('csv/2015_data.csv', low_memory=False)"
   ]
  },
  {
   "cell_type": "code",
   "execution_count": 10,
   "metadata": {},
   "outputs": [
    {
     "data": {
      "application/vnd.jupyter.widget-view+json": {
       "model_id": "065c59ccdbd1440f8d831593bb3d353d",
       "version_major": 2,
       "version_minor": 0
      },
      "text/plain": [
       "IntSlider(value=30, description='Age:')"
      ]
     },
     "metadata": {},
     "output_type": "display_data"
    },
    {
     "data": {
      "application/vnd.jupyter.widget-view+json": {
       "model_id": "88a77e4893b64146bc6b3b01606aeac2",
       "version_major": 2,
       "version_minor": 0
      },
      "text/plain": [
       "Dropdown(description='Resident Status:', options=('RESIDENTS', 'INTRASTATE NONRESIDENTS', 'INTERSTATE NONRESID…"
      ]
     },
     "metadata": {},
     "output_type": "display_data"
    },
    {
     "data": {
      "application/vnd.jupyter.widget-view+json": {
       "model_id": "ede51ffdf0ed42019c8e237a706a661f",
       "version_major": 2,
       "version_minor": 0
      },
      "text/plain": [
       "Dropdown(description='Education:', index=8, options=('8th grade or less', '9 - 12th grade, no diploma', 'high …"
      ]
     },
     "metadata": {},
     "output_type": "display_data"
    },
    {
     "data": {
      "application/vnd.jupyter.widget-view+json": {
       "model_id": "5fbb151e137a499ea1aaa2db5bddf110",
       "version_major": 2,
       "version_minor": 0
      },
      "text/plain": [
       "Dropdown(description='Marital Status:', index=4, options=('Never married, single', 'Married', 'Widowed', 'Divo…"
      ]
     },
     "metadata": {},
     "output_type": "display_data"
    },
    {
     "data": {
      "application/vnd.jupyter.widget-view+json": {
       "model_id": "8f26910caf5b42bead002b784b1f4d10",
       "version_major": 2,
       "version_minor": 0
      },
      "text/plain": [
       "Dropdown(description='Gender:', options=('Male', 'Female'), value='Male')"
      ]
     },
     "metadata": {},
     "output_type": "display_data"
    },
    {
     "data": {
      "application/vnd.jupyter.widget-view+json": {
       "model_id": "1923af493e604d55bd6058298a264719",
       "version_major": 2,
       "version_minor": 0
      },
      "text/plain": [
       "Output()"
      ]
     },
     "metadata": {},
     "output_type": "display_data"
    }
   ],
   "source": [
    "# Convert columns to strings\n",
    "df_2015['resident_status'] = df_2015['resident_status'].astype(str)\n",
    "df_2015['education_2003_revision'] = df_2015['education_2003_revision'].astype(str)\n",
    "df_2015['marital_status'] = df_2015['marital_status'].astype(str)\n",
    "df_2015['sex'] = df_2015['sex'].astype(str)\n",
    "\n",
    "# Create age slider\n",
    "age_slider = widgets.IntSlider(\n",
    "    value=30,\n",
    "    min=0,\n",
    "    max=100,\n",
    "    step=1,\n",
    "    description='Age:'\n",
    ")\n",
    "\n",
    "# Create resident_status dropdown\n",
    "resident_status_dropdown = widgets.Dropdown(\n",
    "    options=['RESIDENTS', 'INTRASTATE NONRESIDENTS', 'INTERSTATE NONRESIDENTS', 'FOREIGN RESIDENTS'],\n",
    "    value='RESIDENTS',\n",
    "    description='Resident Status:'\n",
    ")\n",
    "\n",
    "# Create education dropdown\n",
    "education_dropdown = widgets.Dropdown(\n",
    "    options=['8th grade or less', '9 - 12th grade, no diploma', 'high school graduate or GED completed', 'some college credit, but no degree', 'Associate degree', 'Bachelor’s degree', 'Master’s degree', 'Doctorate or professional degree', 'Unknown'],\n",
    "    value='Unknown',\n",
    "    description='Education:'\n",
    ")\n",
    "\n",
    "# Create marital_status dropdown\n",
    "marital_status_dropdown = widgets.Dropdown(\n",
    "    options=['Never married, single', 'Married', 'Widowed', 'Divorced', 'Marital Status unknown'],\n",
    "    value='Marital Status unknown',\n",
    "    description='Marital Status:'\n",
    ")\n",
    "\n",
    "# Create gender dropdown\n",
    "gender_dropdown = widgets.Dropdown(\n",
    "    options=['Male', 'Female'],\n",
    "    value='Male',\n",
    "    description='Gender:'\n",
    ")\n",
    "\n",
    "# Create output widget\n",
    "output = widgets.Output()\n",
    "\n",
    "# Display the interface and output widget\n",
    "display(age_slider, resident_status_dropdown, education_dropdown, marital_status_dropdown, gender_dropdown, output)\n",
    "\n",
    "def top10percentages(arr):\n",
    "    # Get the indices of the top 10 largest numbers\n",
    "    top_indices = np.argpartition(arr, -10)[-10:]\n",
    "\n",
    "    # Get the values of the top 10 largest numbers\n",
    "    top_numbers = arr[top_indices]\n",
    "\n",
    "    # Sort the top numbers in descending order\n",
    "    sorted_indices = np.argsort(top_numbers)[::-1]\n",
    "    top_numbers = top_numbers[sorted_indices]\n",
    "    top_indices = top_indices[sorted_indices]\n",
    "\n",
    "    return top_numbers, top_indices\n",
    "\n",
    "def update_visualization(change):\n",
    "    with output:\n",
    "        # Clear previous output\n",
    "        clear_output()\n",
    "\n",
    "        age = age_slider.value\n",
    "        resident_status = resident_status_dropdown.value\n",
    "        education = education_dropdown.value\n",
    "        marital_status = marital_status_dropdown.value\n",
    "        gender = gender_dropdown.value\n",
    "\n",
    "        # Map selected label to gender code\n",
    "        gender_code = {\n",
    "            'Male': 'M',\n",
    "            'Female': 'F'\n",
    "        }\n",
    "\n",
    "        # Map selected label to resident_status code\n",
    "        resident_status_code = {\n",
    "            'RESIDENTS': '1',\n",
    "            'INTRASTATE NONRESIDENTS': '2',\n",
    "            'INTERSTATE NONRESIDENTS': '3',\n",
    "            'FOREIGN RESIDENTS': '4'\n",
    "        }\n",
    "\n",
    "        # Map selected label to education code\n",
    "        education_code = {\n",
    "            '8th grade or less': '1.0',\n",
    "            '9 - 12th grade, no diploma': '2.0',\n",
    "            'high school graduate or GED completed': '3.0',\n",
    "            'some college credit, but no degree': '4.0',\n",
    "            'Associate degree': '5.0',\n",
    "            'Bachelor’s degree': '6.0',\n",
    "            'Master’s degree': '7.0',\n",
    "            'Doctorate or professional degree': '8.0',\n",
    "            'Unknown': '9.0'\n",
    "        }\n",
    "\n",
    "        # Map selected label to marital_status code\n",
    "        marital_status_code = {\n",
    "            'Never married, single': 'S',\n",
    "            'Married': 'M',\n",
    "            'Widowed': 'W',\n",
    "            'Divorced': 'D',\n",
    "            'Marital Status unknown': 'U'\n",
    "        }\n",
    "\n",
    "        # Filter df_2015 based on user's selections\n",
    "        filtered_df_2015 = df_2015[\n",
    "            (df_2015['detail_age'] == int(age)) &\n",
    "            (df_2015['resident_status'] == resident_status_code[resident_status]) &\n",
    "            (df_2015['education_2003_revision'] == education_code[education]) &\n",
    "            (df_2015['marital_status'] == marital_status_code[marital_status]) &\n",
    "            (df_2015['sex'] == gender_code[gender])\n",
    "        ]\n",
    "\n",
    "        cause_counts = np.zeros(456)\n",
    "        total_deaths = 0\n",
    "\n",
    "        # Count the occurrences of each cause of death in the filtered dataset\n",
    "        for c in filtered_df_2015['358_cause_recode']:\n",
    "            cause_counts[c] += 1\n",
    "            total_deaths += 1\n",
    "\n",
    "        if total_deaths == 0:\n",
    "            print(\"No data available for the selected criteria.\")\n",
    "            return\n",
    "\n",
    "        cause_percentages = cause_counts / total_deaths * 100\n",
    "\n",
    "        top_numbers, top_indices = top10percentages(cause_percentages)\n",
    "\n",
    "        # Check if top_numbers contains any NaN values\n",
    "        if np.isnan(top_numbers).all():\n",
    "            print(\"No data available for the selected criteria.\")\n",
    "\n",
    "        # should be adapted to the new data when something is deleted\n",
    "        elif np.isnan(top_numbers).any():\n",
    "            for i in range(len(top_numbers)):\n",
    "                if np.isnan(top_numbers[i]):\n",
    "                    top_numbers = np.delete(top_numbers, i)\n",
    "                    top_indices = np.delete(top_indices, i)\n",
    "        else:\n",
    "            # Create a pie chart\n",
    "            fig, ax = plt.subplots(figsize=(8, 8))\n",
    "            ax.pie(top_numbers, labels=top_indices, autopct='%1.1f%%')\n",
    "            ax.set_title('Cause of Death Percentages')\n",
    "            ax.axis('equal')\n",
    "            plt.show()\n",
    "\n",
    "\n",
    "# Call the update_visualization function when any of the widget values change\n",
    "age_slider.observe(update_visualization, 'value')\n",
    "resident_status_dropdown.observe(update_visualization, 'value')\n",
    "education_dropdown.observe(update_visualization, 'value')\n",
    "marital_status_dropdown.observe(update_visualization, 'value')\n",
    "gender_dropdown.observe(update_visualization, 'value')"
   ]
  },
  {
   "cell_type": "code",
   "execution_count": 11,
   "metadata": {},
   "outputs": [
    {
     "data": {
      "application/vnd.jupyter.widget-view+json": {
       "model_id": "a9169ed65b9a4428a93fcb8373767a72",
       "version_major": 2,
       "version_minor": 0
      },
      "text/plain": [
       "IntSlider(value=30, description='Age:')"
      ]
     },
     "metadata": {},
     "output_type": "display_data"
    },
    {
     "data": {
      "application/vnd.jupyter.widget-view+json": {
       "model_id": "f626034818f04b5c8c7c421680b4a647",
       "version_major": 2,
       "version_minor": 0
      },
      "text/plain": [
       "Dropdown(description='Hispanic origin:', index=8, options=('1', '2', '3', '4', '5', '6', '7', '8', '9'), value…"
      ]
     },
     "metadata": {},
     "output_type": "display_data"
    },
    {
     "data": {
      "application/vnd.jupyter.widget-view+json": {
       "model_id": "0d03a6761f6e4732b436b260666bd934",
       "version_major": 2,
       "version_minor": 0
      },
      "text/plain": [
       "Dropdown(description='Education:', index=8, options=('1.0', '2.0', '3.0', '4.0', '5.0', '6.0', '7.0', '8.0', '…"
      ]
     },
     "metadata": {},
     "output_type": "display_data"
    },
    {
     "data": {
      "application/vnd.jupyter.widget-view+json": {
       "model_id": "e6d80b680d8c417aba9480e42bc85ef9",
       "version_major": 2,
       "version_minor": 0
      },
      "text/plain": [
       "Dropdown(description='Marital Status:', index=4, options=('S', 'M', 'W', 'D', 'U'), value='U')"
      ]
     },
     "metadata": {},
     "output_type": "display_data"
    },
    {
     "data": {
      "application/vnd.jupyter.widget-view+json": {
       "model_id": "d5245f133bea4bdc8a3651d7ff9a8a71",
       "version_major": 2,
       "version_minor": 0
      },
      "text/plain": [
       "Dropdown(description='Gender:', options=('M', 'F'), value='M')"
      ]
     },
     "metadata": {},
     "output_type": "display_data"
    },
    {
     "data": {
      "application/vnd.jupyter.widget-view+json": {
       "model_id": "4c23df769a1e4e2e848bcada5ad46cfb",
       "version_major": 2,
       "version_minor": 0
      },
      "text/plain": [
       "Output()"
      ]
     },
     "metadata": {},
     "output_type": "display_data"
    }
   ],
   "source": [
    "# Convert columns to strings\n",
    "df_2015['hispanic_originrace_recode'] = df_2015['hispanic_originrace_recode'].astype(str)\n",
    "df_2015['education_2003_revision'] = df_2015['education_2003_revision'].astype(str)\n",
    "df_2015['marital_status'] = df_2015['marital_status'].astype(str)\n",
    "df_2015['sex'] = df_2015['sex'].astype(str)\n",
    "\n",
    "# Create age slider\n",
    "age_slider = widgets.IntSlider(\n",
    "    value=30,\n",
    "    min=0,\n",
    "    max=100,\n",
    "    step=1,\n",
    "    description='Age:'\n",
    ")\n",
    "\n",
    "# Create resident_status dropdown\n",
    "hispanic_origin_dropdown = widgets.Dropdown(\n",
    "    options=['1', '2', '3', '4', '5', '6', '7', '8', '9'],\n",
    "    value='9',\n",
    "    description='Hispanic origin:'\n",
    ")\n",
    "\n",
    "# Create education dropdown\n",
    "education_dropdown = widgets.Dropdown(\n",
    "    options=['1.0', '2.0', '3.0', '4.0', '5.0', '6.0', '7.0', '8.0', '9.0'],\n",
    "    value='9.0',\n",
    "    description='Education:'\n",
    ")\n",
    "\n",
    "# Create marital_status dropdown\n",
    "marital_status_dropdown = widgets.Dropdown(\n",
    "    options=['S', 'M', 'W', 'D', 'U'],\n",
    "    value='U',\n",
    "    description='Marital Status:'\n",
    ")\n",
    "\n",
    "# Create gender dropdown\n",
    "gender_dropdown = widgets.Dropdown(\n",
    "    options=['M', 'F'],\n",
    "    value='M',\n",
    "    description='Gender:'\n",
    ")\n",
    "\n",
    "# Create output widget\n",
    "output = widgets.Output()\n",
    "\n",
    "# Display the interface and output widget\n",
    "display(age_slider, hispanic_origin_dropdown, education_dropdown, marital_status_dropdown, gender_dropdown, output)\n",
    "\n",
    "def top10percentages(arr):\n",
    "    # Get the indices of the top 10 largest numbers\n",
    "    top_indices = np.argpartition(arr, -10)[-10:]\n",
    "\n",
    "    # Get the values of the top 10 largest numbers\n",
    "    top_numbers = arr[top_indices]\n",
    "\n",
    "    # Sort the top numbers in descending order\n",
    "    sorted_indices = np.argsort(top_numbers)[::-1]\n",
    "    top_numbers = top_numbers[sorted_indices]\n",
    "    top_indices = top_indices[sorted_indices]\n",
    "\n",
    "    return top_numbers, top_indices\n",
    "\n",
    "def update_visualization(change):\n",
    "    with output:\n",
    "        # Clear previous output\n",
    "        clear_output()\n",
    "\n",
    "        age = age_slider.value\n",
    "        hispanic_origin = hispanic_origin_dropdown.value\n",
    "        education = education_dropdown.value\n",
    "        marital_status = marital_status_dropdown.value\n",
    "        gender = gender_dropdown.value\n",
    "\n",
    "        # Filter df_2015 based on user's selections\n",
    "        filtered_df_2015 = df_2015[\n",
    "            (df_2015['detail_age'] == int(age)) &\n",
    "            (df_2015['hispanic_originrace_recode'] == hispanic_origin) &\n",
    "            (df_2015['education_2003_revision'] == education) &\n",
    "            (df_2015['marital_status'] == marital_status) &\n",
    "            (df_2015['sex'] == gender)\n",
    "        ]\n",
    "\n",
    "        cause_counts = np.zeros(456)\n",
    "        total_deaths = 0\n",
    "\n",
    "        # Count the occurrences of each cause of death in the filtered dataset\n",
    "        for c in filtered_df_2015['358_cause_recode']:\n",
    "            cause_counts[c] += 1\n",
    "            total_deaths += 1\n",
    "\n",
    "        if total_deaths == 0:\n",
    "            print(\"No data available for the selected criteria.\")\n",
    "            return\n",
    "\n",
    "        cause_percentages = cause_counts / total_deaths * 100\n",
    "\n",
    "        top_numbers, top_indices = top10percentages(cause_percentages)\n",
    "\n",
    "        # Check if top_numbers contains any NaN values\n",
    "        if np.isnan(top_numbers).all():\n",
    "            print(\"No data available for the selected criteria.\")\n",
    "\n",
    "        # should be adapted to the new data when something is deleted\n",
    "        elif np.isnan(top_numbers).any():\n",
    "            for i in range(len(top_numbers)):\n",
    "                if np.isnan(top_numbers[i]):\n",
    "                    top_numbers = np.delete(top_numbers, i)\n",
    "                    top_indices = np.delete(top_indices, i)\n",
    "        else:\n",
    "            # Create a pie chart\n",
    "            fig, ax = plt.subplots(figsize=(8, 8))\n",
    "            ax.pie(top_numbers, labels=top_indices, autopct='%1.1f%%')\n",
    "            ax.set_title('Cause of Death Percentages')\n",
    "            ax.axis('equal')\n",
    "            plt.show()\n",
    "\n",
    "\n",
    "# Call the update_visualization function when any of the widget values change\n",
    "age_slider.observe(update_visualization, 'value')\n",
    "resident_status_dropdown.observe(update_visualization, 'value')\n",
    "education_dropdown.observe(update_visualization, 'value')\n",
    "marital_status_dropdown.observe(update_visualization, 'value')\n",
    "gender_dropdown.observe(update_visualization, 'value')"
   ]
  },
  {
   "cell_type": "code",
   "execution_count": 12,
   "metadata": {},
   "outputs": [
    {
     "data": {
      "application/vnd.jupyter.widget-view+json": {
       "model_id": "1af03580aafd4ceba74bf8593404e581",
       "version_major": 2,
       "version_minor": 0
      },
      "text/plain": [
       "IntSlider(value=0, description='Age:')"
      ]
     },
     "metadata": {},
     "output_type": "display_data"
    },
    {
     "data": {
      "application/vnd.jupyter.widget-view+json": {
       "model_id": "2900648a420641bb8ab8f2f84607c8db",
       "version_major": 2,
       "version_minor": 0
      },
      "text/plain": [
       "Dropdown(description='Race:', index=1, options=('White', 'Black', 'Korean', 'Vietnamese', 'Indian', 'Native Am…"
      ]
     },
     "metadata": {},
     "output_type": "display_data"
    },
    {
     "data": {
      "application/vnd.jupyter.widget-view+json": {
       "model_id": "2463f93032c14fc3bb03fd0e055c3c15",
       "version_major": 2,
       "version_minor": 0
      },
      "text/plain": [
       "Dropdown(description='Gender:', options=('M', 'F'), value='M')"
      ]
     },
     "metadata": {},
     "output_type": "display_data"
    },
    {
     "data": {
      "application/vnd.jupyter.widget-view+json": {
       "model_id": "780d6dfbf53f46ffbc71dffe5426b441",
       "version_major": 2,
       "version_minor": 0
      },
      "text/plain": [
       "Output()"
      ]
     },
     "metadata": {},
     "output_type": "display_data"
    }
   ],
   "source": [
    "# Convert columns to strings\n",
    "df_2015['education_2003_revision'] = df_2015['education_2003_revision'].astype(str)\n",
    "df_2015['race'] = df_2015['race'].astype(str)\n",
    "df_2015['sex'] = df_2015['sex'].astype(str)\n",
    "\n",
    "# Create age slider\n",
    "age_slider = widgets.IntSlider(\n",
    "    value=0,\n",
    "    min=0,\n",
    "    max=100,\n",
    "    step=1,\n",
    "    description='Age:'\n",
    ")\n",
    "\n",
    "# Create education dropdown\n",
    "race_dropdown = widgets.Dropdown(\n",
    "    options=['White', 'Black', 'Korean','Vietnamese','Indian',\n",
    "            'Native American', 'Hawaiian', 'Chinese', 'Japanese',\n",
    "            'other Asian or Pacific Islander', 'Filipino', 'Samoan','Guamanian'],\n",
    "    value='Black',\n",
    "    description='Race:'\n",
    ")\n",
    "\n",
    "# Create gender dropdown\n",
    "gender_dropdown = widgets.Dropdown(\n",
    "    options=['M', 'F'],\n",
    "    value='M',\n",
    "    description='Gender:'\n",
    ")\n",
    "\n",
    "# Create output widget\n",
    "output = widgets.Output()\n",
    "\n",
    "# Display the interface and output widget\n",
    "display(age_slider, race_dropdown, gender_dropdown, output)\n",
    "\n",
    "def top10percentages(arr):\n",
    "    # Get the indices of the top 10 largest numbers\n",
    "    top_indices = np.argpartition(arr, -10)[-10:]\n",
    "\n",
    "    # Get the values of the top 10 largest numbers\n",
    "    top_numbers = arr[top_indices]\n",
    "\n",
    "    # Sort the top numbers in descending order\n",
    "    sorted_indices = np.argsort(top_numbers)[::-1]\n",
    "    top_numbers = top_numbers[sorted_indices]\n",
    "    top_indices = top_indices[sorted_indices]\n",
    "\n",
    "    return top_numbers, top_indices\n",
    "\n",
    "def update_visualization(change):\n",
    "    with output:\n",
    "        # Clear previous output\n",
    "        clear_output()\n",
    "\n",
    "        age = age_slider.value\n",
    "        resident_status = resident_status_dropdown.value\n",
    "        education = education_dropdown.value\n",
    "        marital_status = marital_status_dropdown.value\n",
    "        gender = gender_dropdown.value\n",
    "\n",
    "        # Filter df_2015 based on user's selections\n",
    "        filtered_df_2015 = df_2015[\n",
    "            (df_2015['detail_age'] == int(age)) &\n",
    "            (df_2015['resident_status'] == resident_status) &\n",
    "            (df_2015['education_2003_revision'] == education) &\n",
    "            (df_2015['marital_status'] == marital_status) &\n",
    "            (df_2015['sex'] == gender)\n",
    "        ]\n",
    "\n",
    "        cause_counts = np.zeros(456)\n",
    "        total_deaths = 0\n",
    "\n",
    "        # Count the occurrences of each cause of death in the filtered dataset\n",
    "        for c in filtered_df_2015['358_cause_recode']:\n",
    "            cause_counts[c] += 1\n",
    "            total_deaths += 1\n",
    "\n",
    "        if total_deaths == 0:\n",
    "            print(\"No data available for the selected criteria.\")\n",
    "            return\n",
    "\n",
    "        cause_percentages = cause_counts / total_deaths * 100\n",
    "\n",
    "        top_numbers, top_indices = top10percentages(cause_percentages)\n",
    "\n",
    "        # Check if top_numbers contains any NaN values\n",
    "        if np.isnan(top_numbers).all():\n",
    "            print(\"No data available for the selected criteria.\")\n",
    "\n",
    "        # should be adapted to the new data when something is deleted\n",
    "        elif np.isnan(top_numbers).any():\n",
    "            for i in range(len(top_numbers)):\n",
    "                if np.isnan(top_numbers[i]):\n",
    "                    top_numbers = np.delete(top_numbers, i)\n",
    "                    top_indices = np.delete(top_indices, i)\n",
    "        else:\n",
    "            # Create a pie chart\n",
    "            fig, ax = plt.subplots(figsize=(8, 8))\n",
    "            ax.pie(top_numbers, labels=top_indices, autopct='%1.1f%%')\n",
    "            ax.set_title('Cause of Death Percentages')\n",
    "            ax.axis('equal')\n",
    "            plt.show()\n",
    "\n",
    "\n",
    "# Call the update_visualization function when any of the widget values change\n",
    "age_slider.observe(update_visualization, 'value')\n",
    "race_dropdown.observe(update_visualization, 'value')\n",
    "gender_dropdown.observe(update_visualization, 'value')"
   ]
  }
 ],
 "metadata": {
  "kernelspec": {
   "display_name": "opencv4",
   "language": "python",
   "name": "python3"
  },
  "language_info": {
   "codemirror_mode": {
    "name": "ipython",
    "version": 3
   },
   "file_extension": ".py",
   "mimetype": "text/x-python",
   "name": "python",
   "nbconvert_exporter": "python",
   "pygments_lexer": "ipython3",
   "version": "3.10.6"
  },
  "orig_nbformat": 4
 },
 "nbformat": 4,
 "nbformat_minor": 2
}
