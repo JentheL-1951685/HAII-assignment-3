{
 "cells": [
  {
   "cell_type": "code",
   "execution_count": 8,
   "metadata": {},
   "outputs": [],
   "source": [
    "import pandas as pd\n",
    "import numpy as np\n",
    "import ipywidgets as widgets\n",
    "from IPython.display import display, clear_output\n",
    "import matplotlib.pyplot as plt\n",
    "import json\n",
    "from textwrap import fill"
   ]
  },
  {
   "cell_type": "code",
   "execution_count": 9,
   "metadata": {},
   "outputs": [],
   "source": [
    "df_2015 = pd.read_csv('2015_data.csv', low_memory=False)\n",
    "codes = json.load(open('2015_codes.json'))"
   ]
  },
  {
   "cell_type": "code",
   "execution_count": 10,
   "metadata": {},
   "outputs": [
    {
     "data": {
      "application/vnd.jupyter.widget-view+json": {
       "model_id": "8198e1e84a42417c8e072978a561bb90",
       "version_major": 2,
       "version_minor": 0
      },
      "text/plain": [
       "IntSlider(value=30, description='Age:')"
      ]
     },
     "metadata": {},
     "output_type": "display_data"
    },
    {
     "data": {
      "application/vnd.jupyter.widget-view+json": {
       "model_id": "550fedbf6c6b456091b06381c51e175c",
       "version_major": 2,
       "version_minor": 0
      },
      "text/plain": [
       "Dropdown(description='Resident Status:', options=('RESIDENTS', 'INTRASTATE NONRESIDENTS', 'INTERSTATE NONRESID…"
      ]
     },
     "metadata": {},
     "output_type": "display_data"
    },
    {
     "data": {
      "application/vnd.jupyter.widget-view+json": {
       "model_id": "9557ce3c81434b8487199bb1842769a8",
       "version_major": 2,
       "version_minor": 0
      },
      "text/plain": [
       "Dropdown(description='Education:', index=8, options=('8th grade or less', '9 - 12th grade, no diploma', 'high …"
      ]
     },
     "metadata": {},
     "output_type": "display_data"
    },
    {
     "data": {
      "application/vnd.jupyter.widget-view+json": {
       "model_id": "719044d0db0740f28285c3185fc15848",
       "version_major": 2,
       "version_minor": 0
      },
      "text/plain": [
       "Dropdown(description='Marital Status:', index=4, options=('Never married, single', 'Married', 'Widowed', 'Divo…"
      ]
     },
     "metadata": {},
     "output_type": "display_data"
    },
    {
     "data": {
      "application/vnd.jupyter.widget-view+json": {
       "model_id": "04c8f9ff8f024349a0bf269f53b8693c",
       "version_major": 2,
       "version_minor": 0
      },
      "text/plain": [
       "Dropdown(description='Gender:', options=('Male', 'Female'), value='Male')"
      ]
     },
     "metadata": {},
     "output_type": "display_data"
    },
    {
     "data": {
      "application/vnd.jupyter.widget-view+json": {
       "model_id": "7ea4552b956448ecbc0ee63982e30c9c",
       "version_major": 2,
       "version_minor": 0
      },
      "text/plain": [
       "Output()"
      ]
     },
     "metadata": {},
     "output_type": "display_data"
    }
   ],
   "source": [
    "# Convert columns to strings\n",
    "df_2015['resident_status'] = df_2015['resident_status'].astype(str)\n",
    "df_2015['education_2003_revision'] = df_2015['education_2003_revision'].astype(str)\n",
    "df_2015['marital_status'] = df_2015['marital_status'].astype(str)\n",
    "df_2015['sex'] = df_2015['sex'].astype(str)\n",
    "\n",
    "# Create age slider\n",
    "age_slider = widgets.IntSlider(\n",
    "    value=30,\n",
    "    min=0,\n",
    "    max=100,\n",
    "    step=1,\n",
    "    description='Age:'\n",
    ")\n",
    "\n",
    "# Create resident_status dropdown\n",
    "resident_status_dropdown = widgets.Dropdown(\n",
    "    options=['RESIDENTS', 'INTRASTATE NONRESIDENTS', 'INTERSTATE NONRESIDENTS', 'FOREIGN RESIDENTS'],\n",
    "    value='RESIDENTS',\n",
    "    description='Resident Status:'\n",
    ")\n",
    "\n",
    "# Create education dropdown\n",
    "education_dropdown = widgets.Dropdown(\n",
    "    options=['8th grade or less', '9 - 12th grade, no diploma', 'high school graduate or GED completed', 'some college credit, but no degree', 'Associate degree', 'Bachelor’s degree', 'Master’s degree', 'Doctorate or professional degree', 'Unknown'],\n",
    "    value='Unknown',\n",
    "    description='Education:'\n",
    ")\n",
    "\n",
    "# Create marital_status dropdown\n",
    "marital_status_dropdown = widgets.Dropdown(\n",
    "    options=['Never married, single', 'Married', 'Widowed', 'Divorced', 'Marital Status unknown'],\n",
    "    value='Marital Status unknown',\n",
    "    description='Marital Status:'\n",
    ")\n",
    "\n",
    "# Create gender dropdown\n",
    "gender_dropdown = widgets.Dropdown(\n",
    "    options=['Male', 'Female'],\n",
    "    value='Male',\n",
    "    description='Gender:'\n",
    ")\n",
    "\n",
    "# Create output widget\n",
    "output = widgets.Output()\n",
    "\n",
    "# Display the interface and output widget\n",
    "display(age_slider, resident_status_dropdown, education_dropdown, marital_status_dropdown, gender_dropdown, output)\n",
    "\n",
    "def top10percentages(arr):\n",
    "    # Get the indices of the top 10 largest numbers\n",
    "    top_indices = np.argpartition(arr, -10)[-10:]\n",
    "\n",
    "    # Get the values of the top 10 largest numbers\n",
    "    top_numbers = arr[top_indices]\n",
    "\n",
    "    # Sort the top numbers in descending order\n",
    "    sorted_indices = np.argsort(top_numbers)[::-1]\n",
    "    top_numbers = top_numbers[sorted_indices]\n",
    "    top_indices = top_indices[sorted_indices]\n",
    "\n",
    "    return top_numbers, top_indices\n",
    "\n",
    "def update_visualization(change):\n",
    "    with output:\n",
    "        # Clear previous output\n",
    "        clear_output()\n",
    "\n",
    "        age = age_slider.value\n",
    "        resident_status = resident_status_dropdown.value\n",
    "        education = education_dropdown.value\n",
    "        marital_status = marital_status_dropdown.value\n",
    "        gender = gender_dropdown.value\n",
    "\n",
    "        # Map selected label to gender code\n",
    "        gender_code = {\n",
    "            'Male': 'M',\n",
    "            'Female': 'F'\n",
    "        }\n",
    "\n",
    "        # Map selected label to resident_status code\n",
    "        resident_status_code = {\n",
    "            'RESIDENTS': '1',\n",
    "            'INTRASTATE NONRESIDENTS': '2',\n",
    "            'INTERSTATE NONRESIDENTS': '3',\n",
    "            'FOREIGN RESIDENTS': '4'\n",
    "        }\n",
    "\n",
    "        # Map selected label to education code\n",
    "        education_code = {\n",
    "            '8th grade or less': '1.0',\n",
    "            '9 - 12th grade, no diploma': '2.0',\n",
    "            'high school graduate or GED completed': '3.0',\n",
    "            'some college credit, but no degree': '4.0',\n",
    "            'Associate degree': '5.0',\n",
    "            'Bachelor’s degree': '6.0',\n",
    "            'Master’s degree': '7.0',\n",
    "            'Doctorate or professional degree': '8.0',\n",
    "            'Unknown': '9.0'\n",
    "        }\n",
    "\n",
    "        # Map selected label to marital_status code\n",
    "        marital_status_code = {\n",
    "            'Never married, single': 'S',\n",
    "            'Married': 'M',\n",
    "            'Widowed': 'W',\n",
    "            'Divorced': 'D',\n",
    "            'Marital Status unknown': 'U'\n",
    "        }\n",
    "\n",
    "        filter = None\n",
    "        filter = df_2015[\"sex\"] == gender_code[gender]\n",
    "        if filter is not None:\n",
    "            filter = filter & (df_2015[\"detail_age\"] == int(age))\n",
    "        else:\n",
    "            filter = df_2015[\"detail_age\"] == int(age)\n",
    "        if filter is not None:\n",
    "            filter = filter & (df_2015[\"resident_status\"] == resident_status_code[resident_status])\n",
    "        else:\n",
    "            filter = df_2015[\"resident_status\"] == resident_status_code[resident_status]\n",
    "        if filter is not None:\n",
    "            filter = filter & (df_2015[\"education_2003_revision\"] == education_code[education])\n",
    "        else:\n",
    "            filter = df_2015[\"education_2003_revision\"] == education_code[education]\n",
    "        if filter is not None:\n",
    "            filter = filter & (df_2015[\"marital_status\"] == marital_status_code[marital_status])\n",
    "        else:\n",
    "            filter = df_2015[\"marital_status\"] == marital_status_code[marital_status]\n",
    "\n",
    "        if filter is not None:\n",
    "            filtered_data = df_2015[filter]\n",
    "        else:\n",
    "            filtered_data = df_2015\n",
    "        filtered_data = filtered_data.value_counts(\"358_cause_recode\").sort_values(ascending=False).to_dict()\n",
    "        final_data = {}\n",
    "        for key, value in filtered_data.items():\n",
    "            final_data[codes[\"358_cause_recode\"][str(key).zfill(3)]] = value\n",
    "\n",
    "        total = sum(list(final_data.values()))\n",
    "        som = 0\n",
    "        for key, value in list(final_data.items()):\n",
    "            if som < 0.9 * total and value > 0.03 * total:\n",
    "                som += value\n",
    "            else:\n",
    "                final_data.pop(key)\n",
    "        if (total - som > 0):\n",
    "            final_data[\"Others\"] = total - som\n",
    "\n",
    "        copyData = {}\n",
    "        for key, value in final_data.items():\n",
    "            copyData[fill(key, 30)] = value\n",
    "\n",
    "        final_data = copyData\n",
    "        print(final_data)\n",
    "\n",
    "        plt.figure(figsize=(15, 18))\n",
    "        plt.pie(list(final_data.values()), labels=list(final_data.keys()), autopct='%1.1f%%', rotatelabels=True)\n",
    "        plt.title(\"Causes of Death\", pad=200)\n",
    "        plt.savefig(\"pie_chart.png\")\n",
    "        plt.show()\n",
    "\n",
    "# Call the update_visualization function when any of the widget values change\n",
    "age_slider.observe(update_visualization, 'value')\n",
    "resident_status_dropdown.observe(update_visualization, 'value')\n",
    "education_dropdown.observe(update_visualization, 'value')\n",
    "marital_status_dropdown.observe(update_visualization, 'value')\n",
    "gender_dropdown.observe(update_visualization, 'value')"
   ]
  },
  {
   "cell_type": "code",
   "execution_count": 14,
   "metadata": {},
   "outputs": [
    {
     "data": {
      "application/vnd.jupyter.widget-view+json": {
       "model_id": "7faf8546ab8e4667a932efcb30301837",
       "version_major": 2,
       "version_minor": 0
      },
      "text/plain": [
       "IntSlider(value=30, description='Age:')"
      ]
     },
     "metadata": {},
     "output_type": "display_data"
    },
    {
     "data": {
      "application/vnd.jupyter.widget-view+json": {
       "model_id": "a277fe27442449e7a139b6227fb02b28",
       "version_major": 2,
       "version_minor": 0
      },
      "text/plain": [
       "Dropdown(description='Hispanic origin:', index=8, options=('Mexican', 'Puerto Rican', 'Cuban', 'Central or Sou…"
      ]
     },
     "metadata": {},
     "output_type": "display_data"
    },
    {
     "data": {
      "application/vnd.jupyter.widget-view+json": {
       "model_id": "a19e8a60d94a4aec9c52de27aaa8c821",
       "version_major": 2,
       "version_minor": 0
      },
      "text/plain": [
       "Dropdown(description='Education:', index=8, options=('8th grade or less', '9 - 12th grade, no diploma', 'high …"
      ]
     },
     "metadata": {},
     "output_type": "display_data"
    },
    {
     "data": {
      "application/vnd.jupyter.widget-view+json": {
       "model_id": "f6ccd947d3694c31a782653d47262e9e",
       "version_major": 2,
       "version_minor": 0
      },
      "text/plain": [
       "Dropdown(description='Marital Status:', index=4, options=('Never married, single', 'Married', 'Widowed', 'Divo…"
      ]
     },
     "metadata": {},
     "output_type": "display_data"
    },
    {
     "data": {
      "application/vnd.jupyter.widget-view+json": {
       "model_id": "c948b8747df64f61b12430c0e2dbcddc",
       "version_major": 2,
       "version_minor": 0
      },
      "text/plain": [
       "Dropdown(description='Gender:', options=('Male', 'Female'), value='Male')"
      ]
     },
     "metadata": {},
     "output_type": "display_data"
    },
    {
     "data": {
      "application/vnd.jupyter.widget-view+json": {
       "model_id": "3fd991d9706f4932b064c90c79c5f529",
       "version_major": 2,
       "version_minor": 0
      },
      "text/plain": [
       "Output()"
      ]
     },
     "metadata": {},
     "output_type": "display_data"
    }
   ],
   "source": [
    "# Convert columns to strings\n",
    "df_2015['hispanic_originrace_recode'] = df_2015['hispanic_originrace_recode'].astype(str)\n",
    "df_2015['education_2003_revision'] = df_2015['education_2003_revision'].astype(str)\n",
    "df_2015['marital_status'] = df_2015['marital_status'].astype(str)\n",
    "df_2015['sex'] = df_2015['sex'].astype(str)\n",
    "\n",
    "# Create age slider\n",
    "age_slider = widgets.IntSlider(\n",
    "    value=30,\n",
    "    min=0,\n",
    "    max=100,\n",
    "    step=1,\n",
    "    description='Age:'\n",
    ")\n",
    "\n",
    "# Create resident_status dropdown\n",
    "hispanic_origin_dropdown = widgets.Dropdown(\n",
    "    options=['Mexican', 'Puerto Rican', 'Cuban', 'Central or South American', 'Other or unknown Hispanic', 'Non - Hispanic white', 'Non - Hispanic black', 'Non - Hispanic other races', 'Hispanic origin unknown'],\n",
    "    value='Hispanic origin unknown',\n",
    "    description='Hispanic origin:'\n",
    ")\n",
    "\n",
    "# Create education dropdown\n",
    "education_dropdown = widgets.Dropdown(\n",
    "    options=['8th grade or less', '9 - 12th grade, no diploma', 'high school graduate or GED completed', 'some college credit, but no degree', 'Associate degree', 'Bachelor’s degree', 'Master’s degree', 'Doctorate or professional degree', 'Unknown'],\n",
    "    value='Unknown',\n",
    "    description='Education:'\n",
    ")\n",
    "\n",
    "# Create marital_status dropdown\n",
    "marital_status_dropdown = widgets.Dropdown(\n",
    "    options=['Never married, single', 'Married', 'Widowed', 'Divorced', 'Marital Status unknown'],\n",
    "    value='Marital Status unknown',\n",
    "    description='Marital Status:'\n",
    ")\n",
    "\n",
    "# Create gender dropdown\n",
    "gender_dropdown = widgets.Dropdown(\n",
    "    options=['Male', 'Female'],\n",
    "    value='Male',\n",
    "    description='Gender:'\n",
    ")\n",
    "\n",
    "# Create output widget\n",
    "output = widgets.Output()\n",
    "\n",
    "# Display the interface and output widget\n",
    "display(age_slider, hispanic_origin_dropdown, education_dropdown, marital_status_dropdown, gender_dropdown, output)\n",
    "\n",
    "def top10percentages(arr):\n",
    "    # Get the indices of the top 10 largest numbers\n",
    "    top_indices = np.argpartition(arr, -10)[-10:]\n",
    "\n",
    "    # Get the values of the top 10 largest numbers\n",
    "    top_numbers = arr[top_indices]\n",
    "\n",
    "    # Sort the top numbers in descending order\n",
    "    sorted_indices = np.argsort(top_numbers)[::-1]\n",
    "    top_numbers = top_numbers[sorted_indices]\n",
    "    top_indices = top_indices[sorted_indices]\n",
    "\n",
    "    return top_numbers, top_indices\n",
    "\n",
    "def update_visualization(change):\n",
    "    with output:\n",
    "        # Clear previous output\n",
    "        clear_output()\n",
    "\n",
    "        age = age_slider.value\n",
    "        hispanic_origin = hispanic_origin_dropdown.value\n",
    "        education = education_dropdown.value\n",
    "        marital_status = marital_status_dropdown.value\n",
    "        gender = gender_dropdown.value\n",
    "\n",
    "        # Map selected label to education code\n",
    "        hispanic_origin_code = {\n",
    "            'Mexican': '1',\n",
    "            'Puerto Rican': '2',\n",
    "            'Cuban': '3',\n",
    "            'Central or South American': '4',\n",
    "            'Other or unknown Hispanic': '5',\n",
    "            'Non - Hispanic white': '6',\n",
    "            'Non - Hispanic black': '7',\n",
    "            'Non - Hispanic other races': '8',\n",
    "            'Hispanic origin unknown': '9'\n",
    "        }\n",
    "\n",
    "        # Map selected label to education code\n",
    "        education_code = {\n",
    "            '8th grade or less': '1.0',\n",
    "            '9 - 12th grade, no diploma': '2.0',\n",
    "            'high school graduate or GED completed': '3.0',\n",
    "            'some college credit, but no degree': '4.0',\n",
    "            'Associate degree': '5.0',\n",
    "            'Bachelor’s degree': '6.0',\n",
    "            'Master’s degree': '7.0',\n",
    "            'Doctorate or professional degree': '8.0',\n",
    "            'Unknown': '9.0'\n",
    "        }\n",
    "\n",
    "        # Map selected label to marital_status code\n",
    "        marital_status_code = {\n",
    "            'Never married, single': 'S',\n",
    "            'Married': 'M',\n",
    "            'Widowed': 'W',\n",
    "            'Divorced': 'D',\n",
    "            'Marital Status unknown': 'U'\n",
    "        }\n",
    "\n",
    "        # Map selected label to gender code\n",
    "        gender_code = {\n",
    "            'Male': 'M',\n",
    "            'Female': 'F'\n",
    "        }\n",
    "\n",
    "        filter = None\n",
    "        filter = df_2015[\"sex\"] == gender_code[gender]\n",
    "        if filter is not None:\n",
    "            filter = filter & (df_2015[\"detail_age\"] == int(age))\n",
    "        else:\n",
    "            filter = df_2015[\"detail_age\"] == int(age)\n",
    "        if filter is not None:\n",
    "            filter = filter & (df_2015[\"hispanic_originrace_recode\"] == hispanic_origin_code[hispanic_origin])\n",
    "        else:\n",
    "            filter = df_2015[\"hispanic_originrace_recode\"] == hispanic_origin_code[hispanic_origin]\n",
    "        if filter is not None:\n",
    "            filter = filter & (df_2015[\"education_2003_revision\"] == education_code[education])\n",
    "        else:\n",
    "            filter = df_2015[\"education_2003_revision\"] == education_code[education]\n",
    "        if filter is not None:\n",
    "            filter = filter & (df_2015[\"marital_status\"] == marital_status_code[marital_status])\n",
    "        else:\n",
    "            filter = df_2015[\"marital_status\"] == marital_status_code[marital_status]\n",
    "\n",
    "        if filter is not None:\n",
    "            filtered_data = df_2015[filter]\n",
    "        else:\n",
    "            filtered_data = df_2015\n",
    "        filtered_data = filtered_data.value_counts(\"358_cause_recode\").sort_values(ascending=False).to_dict()\n",
    "        final_data = {}\n",
    "        for key, value in filtered_data.items():\n",
    "            final_data[codes[\"358_cause_recode\"][str(key).zfill(3)]] = value\n",
    "\n",
    "        total = sum(list(final_data.values()))\n",
    "        som = 0\n",
    "        for key, value in list(final_data.items()):\n",
    "            if som < 0.9 * total and value > 0.03 * total:\n",
    "                som += value\n",
    "            else:\n",
    "                final_data.pop(key)\n",
    "        if (total - som > 0):\n",
    "            final_data[\"Others\"] = total - som\n",
    "\n",
    "        copyData = {}\n",
    "        for key, value in final_data.items():\n",
    "            copyData[fill(key, 30)] = value\n",
    "\n",
    "        final_data = copyData\n",
    "        print(final_data)\n",
    "\n",
    "        plt.figure(figsize=(15, 18))\n",
    "        plt.pie(list(final_data.values()), labels=list(final_data.keys()), autopct='%1.1f%%', rotatelabels=True)\n",
    "        plt.title(\"Causes of Death\", pad=200)\n",
    "        plt.savefig(\"pie_chart.png\")\n",
    "        plt.show()\n",
    "\n",
    "# Call the update_visualization function when any of the widget values change\n",
    "age_slider.observe(update_visualization, 'value')\n",
    "resident_status_dropdown.observe(update_visualization, 'value')\n",
    "education_dropdown.observe(update_visualization, 'value')\n",
    "marital_status_dropdown.observe(update_visualization, 'value')\n",
    "gender_dropdown.observe(update_visualization, 'value')"
   ]
  },
  {
   "cell_type": "code",
   "execution_count": 16,
   "metadata": {},
   "outputs": [
    {
     "data": {
      "application/vnd.jupyter.widget-view+json": {
       "model_id": "c8b7fddbe5624a988d257fbbef1af043",
       "version_major": 2,
       "version_minor": 0
      },
      "text/plain": [
       "IntSlider(value=0, description='Age:')"
      ]
     },
     "metadata": {},
     "output_type": "display_data"
    },
    {
     "data": {
      "application/vnd.jupyter.widget-view+json": {
       "model_id": "f9a06035a2db4163898e9fd72fc656c2",
       "version_major": 2,
       "version_minor": 0
      },
      "text/plain": [
       "Dropdown(description='Race:', index=2, options=('Other (Puerto Rico only)', 'White', 'Black', 'American Indian…"
      ]
     },
     "metadata": {},
     "output_type": "display_data"
    },
    {
     "data": {
      "application/vnd.jupyter.widget-view+json": {
       "model_id": "941358a4a67541aa85a96d0ef42093b2",
       "version_major": 2,
       "version_minor": 0
      },
      "text/plain": [
       "Dropdown(description='Gender:', options=('Male', 'Female'), value='Male')"
      ]
     },
     "metadata": {},
     "output_type": "display_data"
    },
    {
     "data": {
      "application/vnd.jupyter.widget-view+json": {
       "model_id": "dc0649ba58c944519092594105137cf6",
       "version_major": 2,
       "version_minor": 0
      },
      "text/plain": [
       "Output()"
      ]
     },
     "metadata": {},
     "output_type": "display_data"
    }
   ],
   "source": [
    "# Convert columns to strings\n",
    "df_2015['education_2003_revision'] = df_2015['education_2003_revision'].astype(str)\n",
    "df_2015['race_recode_5'] = df_2015['race_recode_5'].astype(str)\n",
    "df_2015['sex'] = df_2015['sex'].astype(str)\n",
    "\n",
    "# Create age slider\n",
    "age_slider = widgets.IntSlider(\n",
    "    value=0,\n",
    "    min=0,\n",
    "    max=100,\n",
    "    step=1,\n",
    "    description='Age:'\n",
    ")\n",
    "\n",
    "# Create race dropdown\n",
    "race_dropdown = widgets.Dropdown(\n",
    "    options=['Other (Puerto Rico only)', 'White', 'Black', 'American Indian', 'Asian or Pacific Islander'],\n",
    "    value='Black',\n",
    "    description='Race:'\n",
    ")\n",
    "\n",
    "# Create gender dropdown\n",
    "gender_dropdown = widgets.Dropdown(\n",
    "    options=['Male', 'Female'],\n",
    "    value='Male',\n",
    "    description='Gender:'\n",
    ")\n",
    "\n",
    "# Create output widget\n",
    "output = widgets.Output()\n",
    "\n",
    "# Display the interface and output widget\n",
    "display(age_slider, race_dropdown, gender_dropdown, output)\n",
    "\n",
    "def top10percentages(arr):\n",
    "    # Get the indices of the top 10 largest numbers\n",
    "    top_indices = np.argpartition(arr, -10)[-10:]\n",
    "\n",
    "    # Get the values of the top 10 largest numbers\n",
    "    top_numbers = arr[top_indices]\n",
    "\n",
    "    # Sort the top numbers in descending order\n",
    "    sorted_indices = np.argsort(top_numbers)[::-1]\n",
    "    top_numbers = top_numbers[sorted_indices]\n",
    "    top_indices = top_indices[sorted_indices]\n",
    "\n",
    "    return top_numbers, top_indices\n",
    "\n",
    "def update_visualization(change):\n",
    "    with output:\n",
    "        # Clear previous output\n",
    "        clear_output()\n",
    "\n",
    "        age = age_slider.value\n",
    "        race_status = race_dropdown.value\n",
    "        gender = gender_dropdown.value\n",
    "\n",
    "        # Map selected label to gender code\n",
    "        gender_code = {\n",
    "            'Male': 'M',\n",
    "            'Female': 'F'\n",
    "        }\n",
    "\n",
    "        # Map selected label to race code\n",
    "        race_code = {\n",
    "            'Other (Puerto Rico only)': '0',\n",
    "            'White': '1',\n",
    "            'Black': '2',\n",
    "            'American Indian': '3',\n",
    "            'Asian or Pacific Islander': '4'\n",
    "        }\n",
    "\n",
    "        # for key, value in codes[\"race\"].items():\n",
    "        #     if value == race_status:\n",
    "        #         race_num = key\n",
    "\n",
    "        # Filter df_2015 based on user's selections\n",
    "\n",
    "        filter = None\n",
    "        filter = df_2015[\"sex\"] == gender_code[gender]\n",
    "        if filter is not None:\n",
    "            filter = filter & (df_2015[\"detail_age\"] == int(age))\n",
    "        else:\n",
    "            filter = df_2015[\"detail_age\"] == int(age)\n",
    "        if filter is not None:\n",
    "            filter = filter & (df_2015[\"race_recode_5\"] == race_code[race_status])\n",
    "        else:\n",
    "            filter = df_2015[\"race_recode_5\"] == race_code[race_status]\n",
    "        if filter is not None:\n",
    "            filtered_data = df_2015[filter]\n",
    "        else:\n",
    "            filtered_data = df_2015\n",
    "        filtered_data = filtered_data.value_counts(\"358_cause_recode\").sort_values(ascending=False).to_dict()\n",
    "        final_data = {}\n",
    "        for key, value in filtered_data.items():\n",
    "            final_data[codes[\"358_cause_recode\"][str(key).zfill(3)]] = value\n",
    "\n",
    "        total = sum(list(final_data.values()))\n",
    "        som = 0\n",
    "        for key, value in list(final_data.items()):\n",
    "            if som < 0.9 * total and value > 0.03 * total:\n",
    "                som += value\n",
    "            else:\n",
    "                final_data.pop(key)\n",
    "        if (total - som > 0):\n",
    "            final_data[\"Others\"] = total - som\n",
    "\n",
    "        copyData = {}\n",
    "        for key, value in final_data.items():\n",
    "            copyData[fill(key, 30)] = value\n",
    "\n",
    "        final_data = copyData\n",
    "        print(final_data)\n",
    "\n",
    "        plt.figure(figsize=(15, 18))\n",
    "        plt.pie(list(final_data.values()), labels=list(final_data.keys()), autopct='%1.1f%%', rotatelabels=True)\n",
    "        plt.title(\"Causes of Death\", pad=200)\n",
    "        plt.savefig(\"pie_chart.png\")\n",
    "        plt.show()\n",
    "\n",
    "# Call the update_visualization function when any of the widget values change\n",
    "age_slider.observe(update_visualization, 'value')\n",
    "race_dropdown.observe(update_visualization, 'value')\n",
    "gender_dropdown.observe(update_visualization, 'value')"
   ]
  }
 ],
 "metadata": {
  "kernelspec": {
   "display_name": "opencv4",
   "language": "python",
   "name": "python3"
  },
  "language_info": {
   "codemirror_mode": {
    "name": "ipython",
    "version": 3
   },
   "file_extension": ".py",
   "mimetype": "text/x-python",
   "name": "python",
   "nbconvert_exporter": "python",
   "pygments_lexer": "ipython3",
   "version": "3.10.6"
  },
  "orig_nbformat": 4
 },
 "nbformat": 4,
 "nbformat_minor": 2
}
