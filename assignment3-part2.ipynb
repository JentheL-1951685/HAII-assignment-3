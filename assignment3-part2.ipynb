{
 "cells": [
  {
   "cell_type": "code",
   "execution_count": 11,
   "metadata": {},
   "outputs": [],
   "source": [
    "import pandas as pd\n",
    "import numpy as np\n",
    "import ipywidgets as widgets\n",
    "from IPython.display import display, clear_output\n",
    "import matplotlib.pyplot as plt\n",
    "import json\n",
    "from textwrap import fill"
   ]
  },
  {
   "cell_type": "code",
   "execution_count": 6,
   "metadata": {},
   "outputs": [],
   "source": [
    "df_2015 = pd.read_csv('2015_data.csv', low_memory=False)\n",
    "codes = json.load(open('2015_codes.json'))"
   ]
  },
  {
   "cell_type": "code",
   "execution_count": 22,
   "metadata": {},
   "outputs": [
    {
     "data": {
      "application/vnd.jupyter.widget-view+json": {
       "model_id": "1d68ad5ef6284a36ae74d78e9916cb97",
       "version_major": 2,
       "version_minor": 0
      },
      "text/plain": [
       "IntSlider(value=30, description='Age:')"
      ]
     },
     "metadata": {},
     "output_type": "display_data"
    },
    {
     "data": {
      "application/vnd.jupyter.widget-view+json": {
       "model_id": "be64c742d4704cd09d49baf8c2844d8c",
       "version_major": 2,
       "version_minor": 0
      },
      "text/plain": [
       "Dropdown(description='Resident Status:', options=('RESIDENTS', 'INTRASTATE NONRESIDENTS', 'INTERSTATE NONRESID…"
      ]
     },
     "metadata": {},
     "output_type": "display_data"
    },
    {
     "data": {
      "application/vnd.jupyter.widget-view+json": {
       "model_id": "1e1c1c2d3165482a9c7cb2a6c6c3047a",
       "version_major": 2,
       "version_minor": 0
      },
      "text/plain": [
       "Dropdown(description='Education:', index=8, options=('8th grade or less', '9 - 12th grade, no diploma', 'high …"
      ]
     },
     "metadata": {},
     "output_type": "display_data"
    },
    {
     "data": {
      "application/vnd.jupyter.widget-view+json": {
       "model_id": "e283c8d296454cc697e1e62abf2377e0",
       "version_major": 2,
       "version_minor": 0
      },
      "text/plain": [
       "Dropdown(description='Marital Status:', index=4, options=('Never married, single', 'Married', 'Widowed', 'Divo…"
      ]
     },
     "metadata": {},
     "output_type": "display_data"
    },
    {
     "data": {
      "application/vnd.jupyter.widget-view+json": {
       "model_id": "399ec0ee015f49b8b1ab2ad42c5c390d",
       "version_major": 2,
       "version_minor": 0
      },
      "text/plain": [
       "Dropdown(description='Gender:', options=('Male', 'Female'), value='Male')"
      ]
     },
     "metadata": {},
     "output_type": "display_data"
    },
    {
     "data": {
      "application/vnd.jupyter.widget-view+json": {
       "model_id": "b803dc659d47488a8d2d1b4c1aedbb2c",
       "version_major": 2,
       "version_minor": 0
      },
      "text/plain": [
       "Output()"
      ]
     },
     "metadata": {},
     "output_type": "display_data"
    }
   ],
   "source": [
    "# Convert columns to strings\n",
    "df_2015['resident_status'] = df_2015['resident_status'].astype(str)\n",
    "df_2015['education_2003_revision'] = df_2015['education_2003_revision'].astype(str)\n",
    "df_2015['marital_status'] = df_2015['marital_status'].astype(str)\n",
    "df_2015['sex'] = df_2015['sex'].astype(str)\n",
    "\n",
    "# Create age slider\n",
    "age_slider = widgets.IntSlider(\n",
    "    value=30,\n",
    "    min=0,\n",
    "    max=100,\n",
    "    step=1,\n",
    "    description='Age:'\n",
    ")\n",
    "\n",
    "# Create resident_status dropdown\n",
    "resident_status_dropdown = widgets.Dropdown(\n",
    "    options=['RESIDENTS', 'INTRASTATE NONRESIDENTS', 'INTERSTATE NONRESIDENTS', 'FOREIGN RESIDENTS'],\n",
    "    value='RESIDENTS',\n",
    "    description='Resident Status:'\n",
    ")\n",
    "\n",
    "# Create education dropdown\n",
    "education_dropdown = widgets.Dropdown(\n",
    "    options=['8th grade or less', '9 - 12th grade, no diploma', 'high school graduate or GED completed', 'some college credit, but no degree', 'Associate degree', 'Bachelor’s degree', 'Master’s degree', 'Doctorate or professional degree', 'Unknown'],\n",
    "    value='Unknown',\n",
    "    description='Education:'\n",
    ")\n",
    "\n",
    "# Create marital_status dropdown\n",
    "marital_status_dropdown = widgets.Dropdown(\n",
    "    options=['Never married, single', 'Married', 'Widowed', 'Divorced', 'Marital Status unknown'],\n",
    "    value='Marital Status unknown',\n",
    "    description='Marital Status:'\n",
    ")\n",
    "\n",
    "# Create gender dropdown\n",
    "gender_dropdown = widgets.Dropdown(\n",
    "    options=['Male', 'Female'],\n",
    "    value='Male',\n",
    "    description='Gender:'\n",
    ")\n",
    "\n",
    "# Create output widget\n",
    "output = widgets.Output()\n",
    "\n",
    "# Display the interface and output widget\n",
    "display(age_slider, resident_status_dropdown, education_dropdown, marital_status_dropdown, gender_dropdown, output)\n",
    "\n",
    "def top10percentages(arr):\n",
    "    # Get the indices of the top 10 largest numbers\n",
    "    top_indices = np.argpartition(arr, -10)[-10:]\n",
    "\n",
    "    # Get the values of the top 10 largest numbers\n",
    "    top_numbers = arr[top_indices]\n",
    "\n",
    "    # Sort the top numbers in descending order\n",
    "    sorted_indices = np.argsort(top_numbers)[::-1]\n",
    "    top_numbers = top_numbers[sorted_indices]\n",
    "    top_indices = top_indices[sorted_indices]\n",
    "\n",
    "    return top_numbers, top_indices\n",
    "\n",
    "def update_visualization(change):\n",
    "    with output:\n",
    "        # Clear previous output\n",
    "        clear_output()\n",
    "\n",
    "        age = age_slider.value\n",
    "        resident_status = resident_status_dropdown.value\n",
    "        education = education_dropdown.value\n",
    "        marital_status = marital_status_dropdown.value\n",
    "        gender = gender_dropdown.value\n",
    "\n",
    "        # Map selected label to gender code\n",
    "        gender_code = {\n",
    "            'Male': 'M',\n",
    "            'Female': 'F'\n",
    "        }\n",
    "\n",
    "        # Map selected label to resident_status code\n",
    "        resident_status_code = {\n",
    "            'RESIDENTS': '1',\n",
    "            'INTRASTATE NONRESIDENTS': '2',\n",
    "            'INTERSTATE NONRESIDENTS': '3',\n",
    "            'FOREIGN RESIDENTS': '4'\n",
    "        }\n",
    "\n",
    "        # Map selected label to education code\n",
    "        education_code = {\n",
    "            '8th grade or less': '1.0',\n",
    "            '9 - 12th grade, no diploma': '2.0',\n",
    "            'high school graduate or GED completed': '3.0',\n",
    "            'some college credit, but no degree': '4.0',\n",
    "            'Associate degree': '5.0',\n",
    "            'Bachelor’s degree': '6.0',\n",
    "            'Master’s degree': '7.0',\n",
    "            'Doctorate or professional degree': '8.0',\n",
    "            'Unknown': '9.0'\n",
    "        }\n",
    "\n",
    "        # Map selected label to marital_status code\n",
    "        marital_status_code = {\n",
    "            'Never married, single': 'S',\n",
    "            'Married': 'M',\n",
    "            'Widowed': 'W',\n",
    "            'Divorced': 'D',\n",
    "            'Marital Status unknown': 'U'\n",
    "        }\n",
    "\n",
    "        filter = None\n",
    "        filter = df_2015[\"sex\"] == gender_code[gender]\n",
    "        if filter is not None:\n",
    "            filter = filter & (df_2015[\"detail_age\"] == int(age))\n",
    "        else:\n",
    "            filter = df_2015[\"detail_age\"] == int(age)\n",
    "        if filter is not None:\n",
    "            filter = filter & (df_2015[\"resident_status\"] == resident_status_code[resident_status])\n",
    "        else:\n",
    "            filter = df_2015[\"resident_status\"] == resident_status_code[resident_status]\n",
    "        if filter is not None:\n",
    "            filter = filter & (df_2015[\"education_2003_revision\"] == education_code[education])\n",
    "        else:\n",
    "            filter = df_2015[\"education_2003_revision\"] == education_code[education]\n",
    "        if filter is not None:\n",
    "            filter = filter & (df_2015[\"marital_status\"] == marital_status_code[marital_status])\n",
    "        else:\n",
    "            filter = df_2015[\"marital_status\"] == marital_status_code[marital_status]\n",
    "\n",
    "        if filter is not None:\n",
    "            filtered_data = df_2015[filter]\n",
    "        else:\n",
    "            filtered_data = df_2015\n",
    "        filtered_data = filtered_data.value_counts(\"358_cause_recode\").sort_values(ascending=False).to_dict()\n",
    "        final_data = {}\n",
    "        for key, value in filtered_data.items():\n",
    "            final_data[codes[\"358_cause_recode\"][str(key).zfill(3)]] = value\n",
    "\n",
    "        total = sum(list(final_data.values()))\n",
    "        som = 0\n",
    "        for key, value in list(final_data.items()):\n",
    "            if som < 0.9 * total and value > 0.03 * total:\n",
    "                som += value\n",
    "            else:\n",
    "                final_data.pop(key)\n",
    "        if (total - som > 0):\n",
    "            final_data[\"Others\"] = total - som\n",
    "\n",
    "        copyData = {}\n",
    "        for key, value in final_data.items():\n",
    "            copyData[fill(key, 30)] = value\n",
    "\n",
    "        final_data = copyData\n",
    "        print(final_data)\n",
    "\n",
    "        plt.figure(figsize=(15, 18))\n",
    "        plt.pie(list(final_data.values()), labels=list(final_data.keys()), autopct='%1.1f%%', rotatelabels=True)\n",
    "        plt.title(\"Causes of Death\", pad=200)\n",
    "        plt.savefig(\"pie_chart.png\")\n",
    "        plt.show()\n",
    "\n",
    "        # cause_counts = np.zeros(456)\n",
    "        # total_deaths = 0\n",
    "\n",
    "        # # Count the occurrences of each cause of death in the filtered dataset\n",
    "        # for c in filtered_df_2015['358_cause_recode']:\n",
    "        #     cause_counts[c] += 1\n",
    "        #     total_deaths += 1\n",
    "\n",
    "        # if total_deaths == 0:\n",
    "        #     print(\"No data available for the selected criteria.\")\n",
    "        #     return\n",
    "\n",
    "        # cause_percentages = cause_counts / total_deaths * 100\n",
    "\n",
    "        # top_numbers, top_indices = top10percentages(cause_percentages)\n",
    "\n",
    "        # # Check if top_numbers contains any NaN values\n",
    "        # if np.isnan(top_numbers).all():\n",
    "        #     print(\"No data available for the selected criteria.\")\n",
    "\n",
    "        # # should be adapted to the new data when something is deleted\n",
    "        # elif np.isnan(top_numbers).any():\n",
    "        #     for i in range(len(top_numbers)):\n",
    "        #         if np.isnan(top_numbers[i]):\n",
    "        #             top_numbers = np.delete(top_numbers, i)\n",
    "        #             top_indices = np.delete(top_indices, i)\n",
    "        # else:\n",
    "        #     # Create a pie chart\n",
    "        #     fig, ax = plt.subplots(figsize=(8, 8))\n",
    "        #     ax.pie(top_numbers, labels=top_indices, autopct='%1.1f%%')\n",
    "        #     ax.set_title('Cause of Death Percentages')\n",
    "        #     ax.axis('equal')\n",
    "        #     plt.show()\n",
    "\n",
    "\n",
    "# Call the update_visualization function when any of the widget values change\n",
    "age_slider.observe(update_visualization, 'value')\n",
    "resident_status_dropdown.observe(update_visualization, 'value')\n",
    "education_dropdown.observe(update_visualization, 'value')\n",
    "marital_status_dropdown.observe(update_visualization, 'value')\n",
    "gender_dropdown.observe(update_visualization, 'value')"
   ]
  },
  {
   "cell_type": "code",
   "execution_count": 23,
   "metadata": {},
   "outputs": [
    {
     "data": {
      "application/vnd.jupyter.widget-view+json": {
       "model_id": "dc91b81910224d1ab69add149c65610b",
       "version_major": 2,
       "version_minor": 0
      },
      "text/plain": [
       "IntSlider(value=30, description='Age:')"
      ]
     },
     "metadata": {},
     "output_type": "display_data"
    },
    {
     "data": {
      "application/vnd.jupyter.widget-view+json": {
       "model_id": "61404687f9ab4f57b2cd6fe284c8007e",
       "version_major": 2,
       "version_minor": 0
      },
      "text/plain": [
       "Dropdown(description='Hispanic origin:', index=8, options=('1', '2', '3', '4', '5', '6', '7', '8', '9'), value…"
      ]
     },
     "metadata": {},
     "output_type": "display_data"
    },
    {
     "data": {
      "application/vnd.jupyter.widget-view+json": {
       "model_id": "0a543db0e59e46fc9b63bd8967cd6b86",
       "version_major": 2,
       "version_minor": 0
      },
      "text/plain": [
       "Dropdown(description='Education:', index=8, options=('1.0', '2.0', '3.0', '4.0', '5.0', '6.0', '7.0', '8.0', '…"
      ]
     },
     "metadata": {},
     "output_type": "display_data"
    },
    {
     "data": {
      "application/vnd.jupyter.widget-view+json": {
       "model_id": "b78306c0c8744381945035766dd5fdb6",
       "version_major": 2,
       "version_minor": 0
      },
      "text/plain": [
       "Dropdown(description='Marital Status:', index=4, options=('S', 'M', 'W', 'D', 'U'), value='U')"
      ]
     },
     "metadata": {},
     "output_type": "display_data"
    },
    {
     "data": {
      "application/vnd.jupyter.widget-view+json": {
       "model_id": "80d3aff214634bd99d75a2c18c447f9d",
       "version_major": 2,
       "version_minor": 0
      },
      "text/plain": [
       "Dropdown(description='Gender:', options=('M', 'F'), value='M')"
      ]
     },
     "metadata": {},
     "output_type": "display_data"
    },
    {
     "data": {
      "application/vnd.jupyter.widget-view+json": {
       "model_id": "01364a82a36049c68a130bb9c690c046",
       "version_major": 2,
       "version_minor": 0
      },
      "text/plain": [
       "Output()"
      ]
     },
     "metadata": {},
     "output_type": "display_data"
    }
   ],
   "source": [
    "# Convert columns to strings\n",
    "df_2015['hispanic_originrace_recode'] = df_2015['hispanic_originrace_recode'].astype(str)\n",
    "df_2015['education_2003_revision'] = df_2015['education_2003_revision'].astype(str)\n",
    "df_2015['marital_status'] = df_2015['marital_status'].astype(str)\n",
    "df_2015['sex'] = df_2015['sex'].astype(str)\n",
    "\n",
    "# Create age slider\n",
    "age_slider = widgets.IntSlider(\n",
    "    value=30,\n",
    "    min=0,\n",
    "    max=100,\n",
    "    step=1,\n",
    "    description='Age:'\n",
    ")\n",
    "\n",
    "# Create resident_status dropdown\n",
    "hispanic_origin_dropdown = widgets.Dropdown(\n",
    "    options=['1', '2', '3', '4', '5', '6', '7', '8', '9'],\n",
    "    value='9',\n",
    "    description='Hispanic origin:'\n",
    ")\n",
    "\n",
    "# Create education dropdown\n",
    "education_dropdown = widgets.Dropdown(\n",
    "    options=['1.0', '2.0', '3.0', '4.0', '5.0', '6.0', '7.0', '8.0', '9.0'],\n",
    "    value='9.0',\n",
    "    description='Education:'\n",
    ")\n",
    "\n",
    "# Create marital_status dropdown\n",
    "marital_status_dropdown = widgets.Dropdown(\n",
    "    options=['S', 'M', 'W', 'D', 'U'],\n",
    "    value='U',\n",
    "    description='Marital Status:'\n",
    ")\n",
    "\n",
    "# Create gender dropdown\n",
    "gender_dropdown = widgets.Dropdown(\n",
    "    options=['M', 'F'],\n",
    "    value='M',\n",
    "    description='Gender:'\n",
    ")\n",
    "\n",
    "# Create output widget\n",
    "output = widgets.Output()\n",
    "\n",
    "# Display the interface and output widget\n",
    "display(age_slider, hispanic_origin_dropdown, education_dropdown, marital_status_dropdown, gender_dropdown, output)\n",
    "\n",
    "def top10percentages(arr):\n",
    "    # Get the indices of the top 10 largest numbers\n",
    "    top_indices = np.argpartition(arr, -10)[-10:]\n",
    "\n",
    "    # Get the values of the top 10 largest numbers\n",
    "    top_numbers = arr[top_indices]\n",
    "\n",
    "    # Sort the top numbers in descending order\n",
    "    sorted_indices = np.argsort(top_numbers)[::-1]\n",
    "    top_numbers = top_numbers[sorted_indices]\n",
    "    top_indices = top_indices[sorted_indices]\n",
    "\n",
    "    return top_numbers, top_indices\n",
    "\n",
    "def update_visualization(change):\n",
    "    with output:\n",
    "        # Clear previous output\n",
    "        clear_output()\n",
    "\n",
    "        age = age_slider.value\n",
    "        hispanic_origin = hispanic_origin_dropdown.value\n",
    "        education = education_dropdown.value\n",
    "        marital_status = marital_status_dropdown.value\n",
    "        gender = gender_dropdown.value\n",
    "\n",
    "        filter = None\n",
    "        filter = df_2015[\"sex\"] == gender\n",
    "        if filter is not None:\n",
    "            filter = filter & (df_2015[\"detail_age\"] == int(age))\n",
    "        else:\n",
    "            filter = df_2015[\"detail_age\"] == int(age)\n",
    "        if filter is not None:\n",
    "            filter = filter & (df_2015[\"hispanic_originrace_recode\"] == hispanic_origin)\n",
    "        else:\n",
    "            filter = df_2015[\"hispanic_originrace_recode\"] == hispanic_origin\n",
    "        if filter is not None:\n",
    "            filter = filter & (df_2015[\"education_2003_revision\"] == education)\n",
    "        else:\n",
    "            filter = df_2015[\"education_2003_revision\"] == education\n",
    "        if filter is not None:\n",
    "            filter = filter & (df_2015[\"marital_status\"] == marital_status)\n",
    "        else:\n",
    "            filter = df_2015[\"marital_status\"] == marital_status\n",
    "\n",
    "        if filter is not None:\n",
    "            filtered_data = df_2015[filter]\n",
    "        else:\n",
    "            filtered_data = df_2015\n",
    "        filtered_data = filtered_data.value_counts(\"358_cause_recode\").sort_values(ascending=False).to_dict()\n",
    "        final_data = {}\n",
    "        for key, value in filtered_data.items():\n",
    "            final_data[codes[\"358_cause_recode\"][str(key).zfill(3)]] = value\n",
    "\n",
    "        total = sum(list(final_data.values()))\n",
    "        som = 0\n",
    "        for key, value in list(final_data.items()):\n",
    "            if som < 0.9 * total and value > 0.03 * total:\n",
    "                som += value\n",
    "            else:\n",
    "                final_data.pop(key)\n",
    "        if (total - som > 0):\n",
    "            final_data[\"Others\"] = total - som\n",
    "\n",
    "        copyData = {}\n",
    "        for key, value in final_data.items():\n",
    "            copyData[fill(key, 30)] = value\n",
    "\n",
    "        final_data = copyData\n",
    "        print(final_data)\n",
    "\n",
    "        plt.figure(figsize=(15, 18))\n",
    "        plt.pie(list(final_data.values()), labels=list(final_data.keys()), autopct='%1.1f%%', rotatelabels=True)\n",
    "        plt.title(\"Causes of Death\", pad=200)\n",
    "        plt.savefig(\"pie_chart.png\")\n",
    "        plt.show()\n",
    "\n",
    "        # # Filter df_2015 based on user's selections\n",
    "        # filtered_df_2015 = df_2015[\n",
    "        #     (df_2015['detail_age'] == int(age)) &\n",
    "        #     (df_2015['hispanic_originrace_recode'] == hispanic_origin) &\n",
    "        #     (df_2015['education_2003_revision'] == education) &\n",
    "        #     (df_2015['marital_status'] == marital_status) &\n",
    "        #     (df_2015['sex'] == gender)\n",
    "        # ]\n",
    "\n",
    "        # cause_counts = np.zeros(456)\n",
    "        # total_deaths = 0\n",
    "\n",
    "        # # Count the occurrences of each cause of death in the filtered dataset\n",
    "        # for c in filtered_df_2015['358_cause_recode']:\n",
    "        #     cause_counts[c] += 1\n",
    "        #     total_deaths += 1\n",
    "\n",
    "        # if total_deaths == 0:\n",
    "        #     print(\"No data available for the selected criteria.\")\n",
    "        #     return\n",
    "\n",
    "        # cause_percentages = cause_counts / total_deaths * 100\n",
    "\n",
    "        # top_numbers, top_indices = top10percentages(cause_percentages)\n",
    "\n",
    "        # # Check if top_numbers contains any NaN values\n",
    "        # if np.isnan(top_numbers).all():\n",
    "        #     print(\"No data available for the selected criteria.\")\n",
    "\n",
    "        # # should be adapted to the new data when something is deleted\n",
    "        # elif np.isnan(top_numbers).any():\n",
    "        #     for i in range(len(top_numbers)):\n",
    "        #         if np.isnan(top_numbers[i]):\n",
    "        #             top_numbers = np.delete(top_numbers, i)\n",
    "        #             top_indices = np.delete(top_indices, i)\n",
    "        # else:\n",
    "        #     # Create a pie chart\n",
    "        #     fig, ax = plt.subplots(figsize=(8, 8))\n",
    "        #     ax.pie(top_numbers, labels=top_indices, autopct='%1.1f%%')\n",
    "        #     ax.set_title('Cause of Death Percentages')\n",
    "        #     ax.axis('equal')\n",
    "        #     plt.show()\n",
    "\n",
    "\n",
    "# Call the update_visualization function when any of the widget values change\n",
    "age_slider.observe(update_visualization, 'value')\n",
    "resident_status_dropdown.observe(update_visualization, 'value')\n",
    "education_dropdown.observe(update_visualization, 'value')\n",
    "marital_status_dropdown.observe(update_visualization, 'value')\n",
    "gender_dropdown.observe(update_visualization, 'value')"
   ]
  },
  {
   "cell_type": "code",
   "execution_count": 26,
   "metadata": {},
   "outputs": [
    {
     "data": {
      "application/vnd.jupyter.widget-view+json": {
       "model_id": "d326f93de16a41c2806444317e73bdcb",
       "version_major": 2,
       "version_minor": 0
      },
      "text/plain": [
       "IntSlider(value=0, description='Age:')"
      ]
     },
     "metadata": {},
     "output_type": "display_data"
    },
    {
     "data": {
      "application/vnd.jupyter.widget-view+json": {
       "model_id": "bba26a131c354bbc9d7262a9a7910271",
       "version_major": 2,
       "version_minor": 0
      },
      "text/plain": [
       "Dropdown(description='Race:', index=2, options=('0', '1', '2', '3', '4'), value='2')"
      ]
     },
     "metadata": {},
     "output_type": "display_data"
    },
    {
     "data": {
      "application/vnd.jupyter.widget-view+json": {
       "model_id": "1f243e4ee9754e959c05a46ac76ac26d",
       "version_major": 2,
       "version_minor": 0
      },
      "text/plain": [
       "Dropdown(description='Gender:', options=('M', 'F'), value='M')"
      ]
     },
     "metadata": {},
     "output_type": "display_data"
    },
    {
     "data": {
      "application/vnd.jupyter.widget-view+json": {
       "model_id": "bb2034d3dfbd4b539a487164e70d6f96",
       "version_major": 2,
       "version_minor": 0
      },
      "text/plain": [
       "Output()"
      ]
     },
     "metadata": {},
     "output_type": "display_data"
    }
   ],
   "source": [
    "# Convert columns to strings\n",
    "df_2015['education_2003_revision'] = df_2015['education_2003_revision'].astype(str)\n",
    "df_2015['race_recode_5'] = df_2015['race_recode_5'].astype(str)\n",
    "df_2015['sex'] = df_2015['sex'].astype(str)\n",
    "\n",
    "# Create age slider\n",
    "age_slider = widgets.IntSlider(\n",
    "    value=0,\n",
    "    min=0,\n",
    "    max=100,\n",
    "    step=1,\n",
    "    description='Age:'\n",
    ")\n",
    "\n",
    "# Create education dropdown\n",
    "race_dropdown = widgets.Dropdown(\n",
    "    options=['0', '1', '2', '3', '4'],\n",
    "    value='2',\n",
    "    description='Race:'\n",
    ")\n",
    "\n",
    "# Create gender dropdown\n",
    "gender_dropdown = widgets.Dropdown(\n",
    "    options=['M', 'F'],\n",
    "    value='M',\n",
    "    description='Gender:'\n",
    ")\n",
    "\n",
    "# Create output widget\n",
    "output = widgets.Output()\n",
    "\n",
    "# Display the interface and output widget\n",
    "display(age_slider, race_dropdown, gender_dropdown, output)\n",
    "\n",
    "def top10percentages(arr):\n",
    "    # Get the indices of the top 10 largest numbers\n",
    "    top_indices = np.argpartition(arr, -10)[-10:]\n",
    "\n",
    "    # Get the values of the top 10 largest numbers\n",
    "    top_numbers = arr[top_indices]\n",
    "\n",
    "    # Sort the top numbers in descending order\n",
    "    sorted_indices = np.argsort(top_numbers)[::-1]\n",
    "    top_numbers = top_numbers[sorted_indices]\n",
    "    top_indices = top_indices[sorted_indices]\n",
    "\n",
    "    return top_numbers, top_indices\n",
    "\n",
    "def update_visualization(change):\n",
    "    with output:\n",
    "        # Clear previous output\n",
    "        clear_output()\n",
    "\n",
    "        age = age_slider.value\n",
    "        race_status = race_dropdown.value\n",
    "        gender = gender_dropdown.value\n",
    "\n",
    "        # for key, value in codes[\"race\"].items():\n",
    "        #     if value == race_status:\n",
    "        #         race_num = key\n",
    "\n",
    "        # Filter df_2015 based on user's selections\n",
    "\n",
    "        filter = None\n",
    "        filter = df_2015[\"sex\"] == gender\n",
    "        if filter is not None:\n",
    "            filter = filter & (df_2015[\"detail_age\"] == int(age))\n",
    "        else:\n",
    "            filter = df_2015[\"detail_age\"] == int(age)\n",
    "        if filter is not None:\n",
    "            filter = filter & (df_2015[\"race\"] == race_status)\n",
    "        else:\n",
    "            filter = df_2015[\"race\"] == race_status\n",
    "        if filter is not None:\n",
    "            filtered_data = df_2015[filter]\n",
    "        else:\n",
    "            filtered_data = df_2015\n",
    "        filtered_data = filtered_data.value_counts(\"358_cause_recode\").sort_values(ascending=False).to_dict()\n",
    "        final_data = {}\n",
    "        for key, value in filtered_data.items():\n",
    "            final_data[codes[\"358_cause_recode\"][str(key).zfill(3)]] = value\n",
    "\n",
    "        total = sum(list(final_data.values()))\n",
    "        som = 0\n",
    "        for key, value in list(final_data.items()):\n",
    "            if som < 0.9 * total and value > 0.03 * total:\n",
    "                som += value\n",
    "            else:\n",
    "                final_data.pop(key)\n",
    "        if (total - som > 0):\n",
    "            final_data[\"Others\"] = total - som\n",
    "\n",
    "        copyData = {}\n",
    "        for key, value in final_data.items():\n",
    "            copyData[fill(key, 30)] = value\n",
    "\n",
    "        final_data = copyData\n",
    "        print(final_data)\n",
    "\n",
    "        plt.figure(figsize=(15, 18))\n",
    "        plt.pie(list(final_data.values()), labels=list(final_data.keys()), autopct='%1.1f%%', rotatelabels=True)\n",
    "        plt.title(\"Causes of Death\", pad=200)\n",
    "        plt.savefig(\"pie_chart.png\")\n",
    "        plt.show()\n",
    "        \n",
    "        # filtered_df_2015 = df_2015[\n",
    "        #     (df_2015['detail_age'] == int(age)) &\n",
    "        #     (df_2015['race'] == race_status) &\n",
    "        #     (df_2015['sex'] == gender)\n",
    "        # ]\n",
    "\n",
    "        # cause_counts = np.zeros(456)\n",
    "        # total_deaths = 0\n",
    "\n",
    "        # # Count the occurrences of each cause of death in the filtered dataset\n",
    "        # for c in filtered_df_2015['358_cause_recode']:\n",
    "        #     cause_counts[c] += 1\n",
    "        #     total_deaths += 1\n",
    "\n",
    "        # if total_deaths == 0:\n",
    "        #     print(\"No data available for the selected criteria.\")\n",
    "        #     return\n",
    "\n",
    "        # cause_percentages = cause_counts / total_deaths * 100\n",
    "\n",
    "        # top_numbers, top_indices = top10percentages(cause_percentages)\n",
    "\n",
    "        # # Check if top_numbers contains any NaN values\n",
    "        # if np.isnan(top_numbers).all():\n",
    "        #     print(\"No data available for the selected criteria.\")\n",
    "\n",
    "        # # should be adapted to the new data when something is deleted\n",
    "        # elif np.isnan(top_numbers).any():\n",
    "        #     for i in range(len(top_numbers)):\n",
    "        #         if np.isnan(top_numbers[i]):\n",
    "        #             top_numbers = np.delete(top_numbers, i)\n",
    "        #             top_indices = np.delete(top_indices, i)\n",
    "        # else:\n",
    "        #     # Create a pie chart\n",
    "        #     fig, ax = plt.subplots(figsize=(8, 8))\n",
    "        #     ax.pie(top_numbers, labels=top_indices, autopct='%1.1f%%')\n",
    "        #     ax.set_title('Cause of Death Percentages')\n",
    "        #     ax.axis('equal')\n",
    "        #     plt.show()\n",
    "\n",
    "\n",
    "# Call the update_visualization function when any of the widget values change\n",
    "age_slider.observe(update_visualization, 'value')\n",
    "race_dropdown.observe(update_visualization, 'value')\n",
    "gender_dropdown.observe(update_visualization, 'value')"
   ]
  }
 ],
 "metadata": {
  "kernelspec": {
   "display_name": "opencv4",
   "language": "python",
   "name": "python3"
  },
  "language_info": {
   "codemirror_mode": {
    "name": "ipython",
    "version": 3
   },
   "file_extension": ".py",
   "mimetype": "text/x-python",
   "name": "python",
   "nbconvert_exporter": "python",
   "pygments_lexer": "ipython3",
   "version": "3.10.6"
  },
  "orig_nbformat": 4
 },
 "nbformat": 4,
 "nbformat_minor": 2
}
